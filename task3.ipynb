{
  "nbformat": 4,
  "nbformat_minor": 0,
  "metadata": {
    "colab": {
      "provenance": [],
      "authorship_tag": "ABX9TyOMis9/fHFUQci8SDZ365yp",
      "include_colab_link": true
    },
    "kernelspec": {
      "name": "python3",
      "display_name": "Python 3"
    },
    "language_info": {
      "name": "python"
    }
  },
  "cells": [
    {
      "cell_type": "markdown",
      "metadata": {
        "id": "view-in-github",
        "colab_type": "text"
      },
      "source": [
        "<a href=\"https://colab.research.google.com/github/VioletKarasik/Colaboratory/blob/main/task3.ipynb\" target=\"_parent\"><img src=\"https://colab.research.google.com/assets/colab-badge.svg\" alt=\"Open In Colab\"/></a>"
      ]
    },
    {
      "cell_type": "code",
      "execution_count": 7,
      "metadata": {
        "colab": {
          "base_uri": "https://localhost:8080/"
        },
        "id": "daapX_6E950o",
        "outputId": "69ec7e01-a9f3-4792-e413-831f4b0a92ad"
      },
      "outputs": [
        {
          "output_type": "stream",
          "name": "stdout",
          "text": [
            "Сбор данных завершен! Сохранено в climate_change_news.csv.\n"
          ]
        }
      ],
      "source": [
        "import requests\n",
        "from bs4 import BeautifulSoup\n",
        "import csv\n",
        "\n",
        "# URL страницы с новостями\n",
        "url = \"https://bio.news/category/climate-change/\"\n",
        "headers = {\n",
        "    \"User-Agent\": \"Mozilla/5.0 (Windows NT 10.0; Win64; x64) AppleWebKit/537.36 (KHTML, like Gecko) Chrome/114.0.0.0 Safari/537.36\"\n",
        "}\n",
        "response = requests.get(url, headers=headers)\n",
        "\n",
        "# Проверяем успешность запроса\n",
        "if response.status_code == 200:\n",
        "    soup = BeautifulSoup(response.content, 'html.parser')\n",
        "\n",
        "    # Поиск статей по классу h2\n",
        "    articles = soup.find_all('h2', class_='entry-title ast-blog-single-element')\n",
        "\n",
        "    # Сбор данных\n",
        "    news_data = []\n",
        "    for article in articles:\n",
        "        # Ищем ссылку внутри h2\n",
        "        link_tag = article.find('a')\n",
        "\n",
        "        # Если элемент найден, собираем данные\n",
        "        if link_tag:\n",
        "            title = link_tag.text.strip()\n",
        "            link = link_tag['href']\n",
        "\n",
        "            # Добавляем данные\n",
        "            news_data.append({\"title\": title, \"link\": link})\n",
        "\n",
        "    # Сохраняем в CSV\n",
        "    with open('climate_change_news.csv', 'w', newline='', encoding='utf-8') as file:\n",
        "        writer = csv.DictWriter(file, fieldnames=[\"title\", \"link\"])\n",
        "        writer.writeheader()\n",
        "        writer.writerows(news_data)\n",
        "\n",
        "    print(\"Сбор данных завершен! Сохранено в climate_change_news.csv.\")\n",
        "else:\n",
        "    print(\"Не удалось загрузить страницу.\")\n"
      ]
    }
  ]
}