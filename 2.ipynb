{
  "nbformat": 4,
  "nbformat_minor": 0,
  "metadata": {
    "colab": {
      "provenance": [],
      "authorship_tag": "ABX9TyPGnYLwVPNhcBjzRKGp5EjE",
      "include_colab_link": true
    },
    "kernelspec": {
      "name": "python3",
      "display_name": "Python 3"
    },
    "language_info": {
      "name": "python"
    }
  },
  "cells": [
    {
      "cell_type": "markdown",
      "metadata": {
        "id": "view-in-github",
        "colab_type": "text"
      },
      "source": [
        "<a href=\"https://colab.research.google.com/github/VioletKarasik/Colaboratory/blob/main/2.ipynb\" target=\"_parent\"><img src=\"https://colab.research.google.com/assets/colab-badge.svg\" alt=\"Open In Colab\"/></a>"
      ]
    },
    {
      "cell_type": "code",
      "execution_count": 3,
      "metadata": {
        "colab": {
          "base_uri": "https://localhost:8080/"
        },
        "id": "d1u2bRnc6u9z",
        "outputId": "f1f91a37-5e89-4602-e063-653306617c78"
      },
      "outputs": [
        {
          "output_type": "stream",
          "name": "stdout",
          "text": [
            "Наибольшее среднее: 44.666666666666664\n",
            "Наибольшая медиана: 21.0\n",
            "Наибольшее максимальное значение: 152\n",
            "Наибольшее минимальное значение: 1\n",
            "Наибольшее стандартное отклонение: 60.443913396359996\n"
          ]
        }
      ],
      "source": [
        "import pandas as pd\n",
        "\n",
        "# Данные из файла data.csv с указанием правильного разделителя\n",
        "df = pd.read_csv('data.csv', delimiter=';')\n",
        "\n",
        "# Основные статистические характеристики для столбцов A, B, C\n",
        "mean_values = df[['A', 'B', 'C']].mean()\n",
        "median_values = df[['A', 'B', 'C']].median()\n",
        "max_values = df[['A', 'B', 'C']].max()\n",
        "min_values = df[['A', 'B', 'C']].min()\n",
        "std_values = df[['A', 'B', 'C']].std()\n",
        "\n",
        "# Наибольшие значения для каждой характеристики\n",
        "max_mean = mean_values.max()\n",
        "max_median = median_values.max()\n",
        "max_max = max_values.max()\n",
        "max_min = min_values.max()\n",
        "max_std = std_values.max()\n",
        "\n",
        "# Наибольшее значение для каждой характеристики\n",
        "print(f\"Наибольшее среднее: {max_mean}\")\n",
        "print(f\"Наибольшая медиана: {max_median}\")\n",
        "print(f\"Наибольшее максимальное значение: {max_max}\")\n",
        "print(f\"Наибольшее минимальное значение: {max_min}\")\n",
        "print(f\"Наибольшее стандартное отклонение: {max_std}\")\n"
      ]
    }
  ]
}