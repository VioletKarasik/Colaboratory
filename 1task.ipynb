{
  "nbformat": 4,
  "nbformat_minor": 0,
  "metadata": {
    "colab": {
      "provenance": [],
      "authorship_tag": "ABX9TyOdA/TKzVqLikjbVvW6nKlm",
      "include_colab_link": true
    },
    "kernelspec": {
      "name": "python3",
      "display_name": "Python 3"
    },
    "language_info": {
      "name": "python"
    }
  },
  "cells": [
    {
      "cell_type": "markdown",
      "metadata": {
        "id": "view-in-github",
        "colab_type": "text"
      },
      "source": [
        "<a href=\"https://colab.research.google.com/github/VioletKarasik/Colaboratory/blob/main/1task.ipynb\" target=\"_parent\"><img src=\"https://colab.research.google.com/assets/colab-badge.svg\" alt=\"Open In Colab\"/></a>"
      ]
    },
    {
      "cell_type": "code",
      "execution_count": 3,
      "metadata": {
        "colab": {
          "base_uri": "https://localhost:8080/"
        },
        "id": "rTAkgNWMAhC9",
        "outputId": "29ed7a4e-4862-4bdb-bd2e-ec82c779159f"
      },
      "outputs": [
        {
          "output_type": "stream",
          "name": "stdout",
          "text": [
            "Данные сохранены в news_data/news_results.csv\n"
          ]
        }
      ],
      "source": [
        "import requests\n",
        "import json\n",
        "import pandas as pd\n",
        "\n",
        "# Шаг 1. Загрузить API-ключ из config.json\n",
        "with open('config.json', 'r') as f:\n",
        "    config = json.load(f)\n",
        "\n",
        "# Шаг 2. Задать параметры запроса для NewsAPI\n",
        "params = {\n",
        "    'q': 'bitcoin',  # Замени 'bitcoin' на тему, которая тебе интересна\n",
        "    'apiKey': config['api_key']  # Загрузить ключ из config\n",
        "}\n",
        "\n",
        "# Шаг 3. запрос к NewsAPI\n",
        "response = requests.get('https://newsapi.org/v2/everything', params=params)\n",
        "\n",
        "# Шаг 4. данные в JSON\n",
        "if response.status_code == 200:\n",
        "    data = response.json()\n",
        "\n",
        "    # Шаг 5. словарь с нужными полями для сохранения\n",
        "    result = {\n",
        "        \"Author\": [],\n",
        "        \"Title\": [],\n",
        "        \"Description\": [],\n",
        "        \"Url\": [],\n",
        "        \"PublishedAt\": [],\n",
        "        \"Content\": []\n",
        "    }\n",
        "\n",
        "    # Шаг 6. словарь результатами из статьи\n",
        "    for article in data[\"articles\"]:\n",
        "        result['Author'].append(article.get('author', 'N/A'))\n",
        "        result['Title'].append(article.get('title', ''))\n",
        "        result['Description'].append(article.get('description', ''))\n",
        "        result['Url'].append(article.get('url', ''))\n",
        "        result['PublishedAt'].append(article.get('publishedAt', ''))\n",
        "        result['Content'].append(article.get('content', ''))\n",
        "\n",
        "    # Шаг 7. словарь в DataFrame, в CSV\n",
        "    df = pd.DataFrame(result)\n",
        "    df.to_csv('news_data/news_results.csv', index=False)\n",
        "    print(\"Данные сохранены в news_data/news_results.csv\")\n",
        "else:\n",
        "    print(\"Ошибка запроса:\", response.status_code)\n"
      ]
    }
  ]
}