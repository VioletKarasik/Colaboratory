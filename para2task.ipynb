{
  "nbformat": 4,
  "nbformat_minor": 0,
  "metadata": {
    "colab": {
      "provenance": [],
      "authorship_tag": "ABX9TyMxkfL+vuOeTjMs5t2aGnVT",
      "include_colab_link": true
    },
    "kernelspec": {
      "name": "python3",
      "display_name": "Python 3"
    },
    "language_info": {
      "name": "python"
    }
  },
  "cells": [
    {
      "cell_type": "markdown",
      "metadata": {
        "id": "view-in-github",
        "colab_type": "text"
      },
      "source": [
        "<a href=\"https://colab.research.google.com/github/VioletKarasik/Colaboratory/blob/main/para2task.ipynb\" target=\"_parent\"><img src=\"https://colab.research.google.com/assets/colab-badge.svg\" alt=\"Open In Colab\"/></a>"
      ]
    },
    {
      "cell_type": "code",
      "execution_count": 11,
      "metadata": {
        "colab": {
          "base_uri": "https://localhost:8080/"
        },
        "id": "GeGGhVvP9PIE",
        "outputId": "5aaaeff3-3f59-469f-e556-acb138b2ab81"
      },
      "outputs": [
        {
          "output_type": "stream",
          "name": "stdout",
          "text": [
            "Все данные сохранены в crypto_returns_summary.csv\n"
          ]
        }
      ],
      "source": [
        "import requests\n",
        "import json\n",
        "import pandas as pd\n",
        "from datetime import datetime\n",
        "import time\n",
        "\n",
        "# API ключ из config.json\n",
        "with open('config.json', 'r') as f:\n",
        "    config = json.load(f)\n",
        "\n",
        "# Параметры API запроса\n",
        "symbols = ['BTCUSDT', 'ETHUSDT', 'LTCUSDT']  # Символы криптовалют\n",
        "interval = '1d'  # Интервал данных - 1 день\n",
        "start_date = '2014-01-01'  # Начальная дата\n",
        "end_date = datetime.now().strftime('%Y-%m-%d')  # Текущая дата\n",
        "\n",
        "def date_to_millis(date_str):\n",
        "    dt = datetime.strptime(date_str, '%Y-%m-%d')\n",
        "    return int(dt.timestamp() * 1000)\n",
        "\n",
        "# Получение данных\n",
        "def get_historical_data(symbol, interval, start_date, end_date):\n",
        "    url = 'https://api.binance.com/api/v3/klines'\n",
        "    start_time = date_to_millis(start_date)\n",
        "    end_time = date_to_millis(end_date)\n",
        "    data = []\n",
        "\n",
        "    while start_time < end_time:\n",
        "        params = {\n",
        "            'symbol': symbol,\n",
        "            'interval': interval,\n",
        "            'startTime': start_time,\n",
        "            'limit': 1000\n",
        "        }\n",
        "\n",
        "        response = requests.get(url, params=params)\n",
        "        if response.status_code != 200:\n",
        "            print(f\"Ошибка запроса данных для {symbol}!\")\n",
        "            break\n",
        "\n",
        "        klines = response.json()\n",
        "        if not klines:\n",
        "            break\n",
        "\n",
        "        # Данные и время\n",
        "        data.extend(klines)\n",
        "        start_time = klines[-1][0] + 1  # Следующий запрос со следующего дня\n",
        "        time.sleep(0.1)  # Задержка для избежания лимита\n",
        "\n",
        "    return data\n",
        "\n",
        "# Общий DataFrame для хранения данных всех монет\n",
        "final_data = []\n",
        "\n",
        "# Сохранение данных и расчёт доходности для каждой криптовалюты\n",
        "for symbol in symbols:\n",
        "    data = get_historical_data(symbol, interval, start_date, end_date)\n",
        "    columns = ['Open Time', 'Open', 'High', 'Low', 'Close', 'Volume', 'Close Time',\n",
        "               'Quote Asset Volume', 'Number of Trades', 'Taker Buy Base Asset Volume',\n",
        "               'Taker Buy Quote Asset Volume', 'Ignore']\n",
        "    df = pd.DataFrame(data, columns=columns)\n",
        "    df['Open Time'] = pd.to_datetime(df['Open Time'], unit='ms')\n",
        "    df['Close'] = df['Close'].astype(float)\n",
        "\n",
        "    # Годовая доходность\n",
        "    df['Year'] = df['Open Time'].dt.year\n",
        "    yearly_returns = df.groupby('Year')['Close'].apply(lambda x: (x.iloc[-1] - x.iloc[0]) / x.iloc[0] * 100)\n",
        "\n",
        "    # Среднегодовая доходность\n",
        "    avg_annual_return = yearly_returns.mean()\n",
        "\n",
        "    # Данные в финальный список\n",
        "    for year, return_rate in yearly_returns.items():\n",
        "        final_data.append({\n",
        "            'Symbol': symbol,\n",
        "            'Year': year,\n",
        "            'Yearly Return (%)': return_rate,\n",
        "            'Average Annual Return (%)': avg_annual_return if year == yearly_returns.index[-1] else None\n",
        "        })\n",
        "\n",
        "# Итоговые данные  в CSV\n",
        "final_df = pd.DataFrame(final_data)\n",
        "final_df.to_csv('crypto_returns_summary.csv', index=False)\n",
        "print('Все данные сохранены в crypto_returns_summary.csv')"
      ]
    }
  ]
}